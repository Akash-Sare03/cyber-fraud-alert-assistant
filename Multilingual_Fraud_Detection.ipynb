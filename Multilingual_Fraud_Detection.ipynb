{
 "cells": [
  {
   "cell_type": "code",
   "execution_count": null,
   "id": "d4fcd560-3559-442c-81b7-6c63d7ce3941",
   "metadata": {},
   "outputs": [],
   "source": []
  },
  {
   "cell_type": "markdown",
   "id": "c614caad-c882-479a-86fd-c7fef352bf7a",
   "metadata": {},
   "source": [
    "import random\n",
    "import pandas as pd\n",
    "\n",
    "###### Scam templates — Hindi\n",
    "hindi_scam = [\n",
    "  \"मैं पुलिस विभाग से बोल रहा हूँ। आपका नाम बैंक फ्रॉड केस में दर्ज है। ₹{amt} तुरंत ट्रांसफर करें।\",\n",
    "  \"यह Cyber Crime Branch का कॉल है। आपका PAN कार्ड अपराध में लिंक है। ₹{amt} भेजें, नहीं तो अरेस्ट होगा।\",\n",
    "  \"Digital Court ने आपको डिजिटल अरेस्ट दिखाया है। ₹{amt} कोर्ट फीस अभी जमा करें।\"\n",
    "]\n",
    "\n",
    "###### Scam templates — Marathi\n",
    "marathi_scam = [\n",
    "  \"मी पोलीस विभागातून बोलतोय. तुमचं नाव बँक फ्रॉड प्रकरणात आलं आहे. ₹{amt} लगेच जमा करा.\",\n",
    "  \"तुमचा PAN क्राइममध्ये वापरला गेला आहे. Cyber Cell वरून कॉल केला आहे. ₹{amt} न करता अटकेचा धोका आहे.\",\n",
    "  \"डिजिटल कोर्टने अटकेचं आदेश दिलं आहे. ₹{amt} दिलं नाही तर तुरुंग...\"\n",
    "]\n",
    "\n",
    "###### Legit templates — Hindi\n",
    "hindi_legit = [\n",
    "  \"आपका OTP है: {otp} -- कृपया किसी के साथ साझा न करें।\",\n",
    "  \"आपका Flipkart ऑर्डर भेज दिया गया है। ट्रैकिंग ID: {tid}\",\n",
    "  \"बैंक ने ₹{amt} की क्रेडिट ट्रांजेक्शन की सूचना दी है। कृपया विवरण देखें।\"\n",
    "]\n",
    "\n",
    "###### Legit templates — Marathi\n",
    "marathi_legit = [\n",
    "  \"तुमचा OTP: {otp}. कृपया कुणासोबत शेअर करू नका.\",\n",
    "  \"तुमचं Amazon ऑर्डर पॅकेज करण्यात आलं आहे. ट्रॅकिंग आयडी: {tid}\",\n",
    "  \"बँकेने ₹{amt} जमा केल्याचे सूचित केले आहे. कृपया तपासा.\"\n",
    "]\n",
    "\n",
    "def gen_messages(templates, count, lang=\"hi\"):\n",
    "    msgs = []\n",
    "    for _ in range(count):\n",
    "        t = random.choice(templates)\n",
    "        msg = t.format(amt=random.choice([3000,5000,10000,20000,50000]),\n",
    "                       otp=random.randint(100000,999999),\n",
    "                       tid=\"TID\"+str(random.randint(1000000,9999999)))\n",
    "        msgs.append(msg)\n",
    "    return msgs\n",
    "\n",
    "hindi_scam_msgs = gen_messages(hindi_scam, 250)\n",
    "marathi_scam_msgs = gen_messages(marathi_scam, 250)\n",
    "hindi_legit_msgs = gen_messages(hindi_legit, 250)\n",
    "marathi_legit_msgs = gen_messages(marathi_legit, 250)\n",
    "\n",
    "data = []\n",
    "for m in hindi_scam_msgs + marathi_scam_msgs:\n",
    "    data.append({\"message\": m, \"label\": 1})\n",
    "for m in hindi_legit_msgs + marathi_legit_msgs:\n",
    "    data.append({\"message\": m, \"label\": 0})\n",
    "\n",
    "df = pd.DataFrame(data).sample(frac=1, random_state=42)\n",
    "df.to_csv(\"hindimr_dataset.csv\", index=False)\n",
    "print(\"Generated:\", len(df), \"messages\")\n"
   ]
  },
  {
   "cell_type": "code",
   "execution_count": 2,
   "id": "763b94a4-f02e-452c-8599-9e901f954cb0",
   "metadata": {},
   "outputs": [],
   "source": [
    "import random\n",
    "import pandas as pd"
   ]
  },
  {
   "cell_type": "code",
   "execution_count": 3,
   "id": "9bcb9aaa-4df0-4db2-97e8-027582f1314e",
   "metadata": {},
   "outputs": [],
   "source": [
    "\n",
    "new_legit = [\n",
    "    \"आपका मोबाईल रिचार्ज ₹199 सफलतापूर्वक हुआ है।\",\n",
    "    \"आपका बिजली बिल भुगतान हो चुका है। धन्यवाद।\",\n",
    "    \"आपका Zomato ऑर्डर 10 मिनट में पहुँचेगा।\",\n",
    "    \"आपके खाते में ₹5000 जमा हुए हैं।\",\n",
    "    \"आपका ट्रेन टिकट सफलतापूर्वक बुक हुआ है।\",\n",
    "    \"तुमचं वीज बिल भरलं गेलं आहे. धन्यवाद.\",\n",
    "    \"तुमचा Amazon पार्सल आज डिलिव्हर होईल.\",\n",
    "    \"आपला मोबाईल नंबर पोर्टिंग प्रक्रिया सुरु झाली आहे.\",\n",
    "    \"आपला OTP आहे 123456. कृपया कोणाशी शेअर करू नका.\",\n",
    "    \"COVID लसीकरण यशस्वीरित्या पूर्ण झाले आहे.\",\n",
    "    \"शाळा सोमवारपासून सुरु होईल.\",\n",
    "    \"आज पाऊस पडेल अशी शक्यता आहे. कृपया छत्री घेऊन जा.\",\n",
    "    \"तुमचं मोबाईल बिल यशस्वीरित्या भरलं आहे.\",\n",
    "    \"आपका FASTag बैलेंस ₹800 है। रिचार्ज की आवश्यकता नहीं है।\",\n",
    "    \"आपका बैंक स्टेटमेंट ईमेल पर भेजा गया है।\"\n",
    "]\n",
    "\n",
    "df_extra_legit = pd.DataFrame({'message': new_legit, 'label': 0})\n"
   ]
  },
  {
   "cell_type": "code",
   "execution_count": 4,
   "id": "60eaa54b-4d7f-4495-bef6-9acb7fa30764",
   "metadata": {},
   "outputs": [],
   "source": [
    "new_scam = [\n",
    "    \"आपका आधार कार्ड ब्लॉक कर दिया गया है। तुरंत कॉल करें।\",\n",
    "    \"यह पुलिस मुख्यालय है, आप पर केस दर्ज है। ₹10000 भरें।\",\n",
    "    \"KYC अपडेट ना होने पर आपका बैंक खाता बंद कर दिया जाएगा।\",\n",
    "    \"बिजली बिल बकाया है, अभी पेमेंट करें नहीं तो कनेक्शन कटेगा।\",\n",
    "    \"तुमच्यावर FIR दाखल झालेली आहे, पोलिसांना लगेच संपर्क करा.\",\n",
    "    \"आपका मोबाइल नंबर इंटरनेशनल कॉल्स में इस्तेमाल हुआ है।\",\n",
    "    \"Govt Scheme के तहत ₹50,000 जीतें — लिंक पर क्लिक करें।\",\n",
    "    \"तुमचं बँक खाते संशयास्पद व्यवहारात सापडलं आहे. ₹5,000 भरा.\",\n",
    "    \"आपका PayTM अकाउंट बंद हो जाएगा। अभी लॉगिन करें।\",\n",
    "    \"आपने लॉटरी जीती है। ₹25,00,000 के लिए संपर्क करें।\",\n",
    "    \"Income Tax विभाग से हैं, तुरंत ₹15,000 जमा करें नहीं तो गिरफ्तारी होगी।\",\n",
    "    \"आपका WhatsApp हैक हो गया है। अभी कॉल करें!\",\n",
    "    \"PAN card से गलत गतिविधियाँ हो रही हैं। संपर्क करें वरना जेल होगी।\",\n",
    "    \"तुमचा मोबाईल क्रमांक पोलिस रेकॉर्डमध्ये आहे. FIR मागे घ्या ₹3000 भरून.\",\n",
    "    \"Electricity disconnection notice: Payment failed. Pay ₹4,000 now!\"\n",
    "]\n",
    "\n",
    "df_extra_scam = pd.DataFrame({'message': new_scam, 'label': 1})\n"
   ]
  },
  {
   "cell_type": "code",
   "execution_count": null,
   "id": "88b87729-7002-427b-ab32-545f89819801",
   "metadata": {},
   "outputs": [],
   "source": []
  },
  {
   "cell_type": "code",
   "execution_count": 5,
   "id": "a6b3b6c3-fc2f-4b03-9481-00c51e5c1ebc",
   "metadata": {},
   "outputs": [],
   "source": [
    "df = pd.read_csv(\"data/cleaned_messages_dataset.csv\")\n",
    "df_hi_mr = pd.read_csv(\"data/hindimr_dataset.csv\")"
   ]
  },
  {
   "cell_type": "code",
   "execution_count": 6,
   "id": "88ade5af-f629-452d-b8b3-9af84a33031c",
   "metadata": {},
   "outputs": [
    {
     "name": "stdout",
     "output_type": "stream",
     "text": [
      "                                       clean_message  label\n",
      "0  pan card deactivated urgent action required ht...      1\n",
      "1         rbi account suspended share otp reactivate      1\n",
      "2           reminder drink water stay hydrated today      0\n",
      "3  dont miss flat styles myntra offer valid till ...      0\n",
      "4           reminder drink water stay hydrated today      0\n",
      "                                             message  label\n",
      "0  बैंक ने ₹5000 की क्रेडिट ट्रांजेक्शन की सूचना ...      0\n",
      "1  आपका Flipkart ऑर्डर भेज दिया गया है। ट्रैकिंग ...      0\n",
      "2  आपका OTP है: 601743 -- कृपया किसी के साथ साझा ...      0\n",
      "3  आपका OTP है: 434706 -- कृपया किसी के साथ साझा ...      0\n",
      "4  तुमचा PAN क्राइममध्ये वापरला गेला आहे. Cyber C...      1\n"
     ]
    }
   ],
   "source": [
    "print(df.head())\n",
    "print(df_hi_mr.head())"
   ]
  },
  {
   "cell_type": "code",
   "execution_count": null,
   "id": "878d4db1-2350-403e-ba1e-31a613d7b461",
   "metadata": {},
   "outputs": [],
   "source": []
  },
  {
   "cell_type": "code",
   "execution_count": null,
   "id": "ca6493a2-81d2-436b-8689-12cab4e84030",
   "metadata": {},
   "outputs": [],
   "source": []
  },
  {
   "cell_type": "markdown",
   "id": "7f1f7331-d2bf-4fa0-b85e-7314d3ee479d",
   "metadata": {},
   "source": [
    "#### Combine with Existing English Dataset"
   ]
  },
  {
   "cell_type": "code",
   "execution_count": 7,
   "id": "1ffeb832-4647-4972-abb3-d097e028915b",
   "metadata": {},
   "outputs": [],
   "source": [
    "df.rename(columns={'clean_message': 'message'}, inplace=True)"
   ]
  },
  {
   "cell_type": "code",
   "execution_count": 8,
   "id": "988c2ab3-bf24-433c-95b7-e2df78df30bc",
   "metadata": {},
   "outputs": [
    {
     "name": "stdout",
     "output_type": "stream",
     "text": [
      "Total messages after merging: 2100\n"
     ]
    },
    {
     "data": {
      "text/html": [
       "<div>\n",
       "<style scoped>\n",
       "    .dataframe tbody tr th:only-of-type {\n",
       "        vertical-align: middle;\n",
       "    }\n",
       "\n",
       "    .dataframe tbody tr th {\n",
       "        vertical-align: top;\n",
       "    }\n",
       "\n",
       "    .dataframe thead th {\n",
       "        text-align: right;\n",
       "    }\n",
       "</style>\n",
       "<table border=\"1\" class=\"dataframe\">\n",
       "  <thead>\n",
       "    <tr style=\"text-align: right;\">\n",
       "      <th></th>\n",
       "      <th>message</th>\n",
       "      <th>label</th>\n",
       "    </tr>\n",
       "  </thead>\n",
       "  <tbody>\n",
       "    <tr>\n",
       "      <th>1356</th>\n",
       "      <td>आपका Flipkart ऑर्डर भेज दिया गया है। ट्रैकिंग ...</td>\n",
       "      <td>0</td>\n",
       "    </tr>\n",
       "    <tr>\n",
       "      <th>580</th>\n",
       "      <td>rbi account suspended share otp reactivate</td>\n",
       "      <td>1</td>\n",
       "    </tr>\n",
       "    <tr>\n",
       "      <th>1762</th>\n",
       "      <td>तुमचं Amazon ऑर्डर पॅकेज करण्यात आलं आहे. ट्रॅ...</td>\n",
       "      <td>0</td>\n",
       "    </tr>\n",
       "    <tr>\n",
       "      <th>1460</th>\n",
       "      <td>डिजिटल कोर्टने अटकेचं आदेश दिलं आहे. ₹20000 दि...</td>\n",
       "      <td>1</td>\n",
       "    </tr>\n",
       "    <tr>\n",
       "      <th>1730</th>\n",
       "      <td>तुमचा OTP: 237265. कृपया कुणासोबत शेअर करू नका.</td>\n",
       "      <td>0</td>\n",
       "    </tr>\n",
       "  </tbody>\n",
       "</table>\n",
       "</div>"
      ],
      "text/plain": [
       "                                                message  label\n",
       "1356  आपका Flipkart ऑर्डर भेज दिया गया है। ट्रैकिंग ...      0\n",
       "580          rbi account suspended share otp reactivate      1\n",
       "1762  तुमचं Amazon ऑर्डर पॅकेज करण्यात आलं आहे. ट्रॅ...      0\n",
       "1460  डिजिटल कोर्टने अटकेचं आदेश दिलं आहे. ₹20000 दि...      1\n",
       "1730    तुमचा OTP: 237265. कृपया कुणासोबत शेअर करू नका.      0"
      ]
     },
     "execution_count": 8,
     "metadata": {},
     "output_type": "execute_result"
    }
   ],
   "source": [
    "\n",
    "full_df = pd.concat([df[['message', 'label']], df_hi_mr], ignore_index=True)\n",
    "\n",
    "print(\"Total messages after merging:\", len(full_df))\n",
    "full_df.sample(5)  # Random check\n"
   ]
  },
  {
   "cell_type": "code",
   "execution_count": null,
   "id": "218a38fc-41a6-4de6-b69b-9abff170cb5e",
   "metadata": {},
   "outputs": [],
   "source": []
  },
  {
   "cell_type": "code",
   "execution_count": null,
   "id": "dc121d44-ba3d-4c8e-8f02-e8dbc4cc47d9",
   "metadata": {},
   "outputs": [],
   "source": []
  },
  {
   "cell_type": "code",
   "execution_count": 9,
   "id": "24413894-1544-4839-a7c2-acacfb8b9152",
   "metadata": {},
   "outputs": [
    {
     "name": "stdout",
     "output_type": "stream",
     "text": [
      "label\n",
      "1    1115\n",
      "0    1015\n",
      "Name: count, dtype: int64\n"
     ]
    }
   ],
   "source": [
    "# Merge all into full_df\n",
    "full_df = pd.concat([full_df, df_extra_legit, df_extra_scam], ignore_index=True)\n",
    "\n",
    "# Shuffle the rows (important!)\n",
    "full_df = full_df.sample(frac=1, random_state=42).reset_index(drop=True)\n",
    "\n",
    "# Check distribution again\n",
    "print(full_df['label'].value_counts())\n"
   ]
  },
  {
   "cell_type": "code",
   "execution_count": null,
   "id": "be94bc47-5774-49d4-829a-e3a2f08ac9fc",
   "metadata": {},
   "outputs": [],
   "source": []
  },
  {
   "cell_type": "code",
   "execution_count": 10,
   "id": "a77f9656-535d-4e27-a212-9182e87203b8",
   "metadata": {},
   "outputs": [],
   "source": [
    "paraphrased_legit = [\n",
    "    \"आपका मोबाइल रिचार्ज सफल रहा है।\",\n",
    "    \"₹199 का रिचार्ज पूरा हो गया है। धन्यवाद।\",\n",
    "    \"आपका फोन रिचार्ज सफलतापूर्वक प्रोसेस हुआ।\",\n",
    "    \"मोबाइल रिचार्ज की प्रक्रिया पूर्ण हुई है।\",\n",
    "    \"आपका रिचार्ज अब सक्रिय है।\",\n",
    "    \"तुमचं मोबाईल रिचार्ज यशस्वीपणे पार पडलं आहे.\",\n",
    "    \"₹199 चं रिचार्ज पूर्ण झालं आहे.\",\n",
    "    \"आपला रिचार्ज यशस्वी झाला आहे. धन्यवाद.\",\n",
    "    \"आपका रिचार्ज सफल है और सेवा चालू है।\",\n",
    "    \"फोन रिचार्ज प्रक्रिया पूर्णतः पूर्ण झाली आहे.\"\n",
    "]\n"
   ]
  },
  {
   "cell_type": "code",
   "execution_count": 11,
   "id": "4550bad8-9237-450b-8d9e-69842555e13f",
   "metadata": {},
   "outputs": [],
   "source": [
    "df_paraphrased_legit = pd.DataFrame({'message': paraphrased_legit, 'label': 0})\n",
    "\n",
    "# Add to full dataset\n",
    "full_df = pd.concat([full_df, df_paraphrased_legit], ignore_index=True).sample(frac=1, random_state=42).reset_index(drop=True)\n"
   ]
  },
  {
   "cell_type": "code",
   "execution_count": null,
   "id": "2b4ab307-43d5-4767-bd5f-40e58e270d0c",
   "metadata": {},
   "outputs": [],
   "source": []
  },
  {
   "cell_type": "markdown",
   "id": "f00250be-16b4-4b7b-83a1-a577385b29f6",
   "metadata": {},
   "source": [
    "#### Clean the Text (Multilingual-Friendly)"
   ]
  },
  {
   "cell_type": "code",
   "execution_count": null,
   "id": "52b9d7f8-84a5-4568-a396-fc10dad6f02f",
   "metadata": {},
   "outputs": [],
   "source": []
  },
  {
   "cell_type": "code",
   "execution_count": 12,
   "id": "66a4a644-cd1b-4c27-968f-acc27e083f20",
   "metadata": {},
   "outputs": [],
   "source": [
    "# Minimal Hindi Stopwords\n",
    "hindi_stopwords = set([\n",
    "    'है', 'के', 'का', 'की', 'को', 'में', 'से', 'पर', 'और', 'यह', 'था',\n",
    "    'था', 'हो', 'रहा', 'हूँ', 'आप', 'हम', 'वे', 'जो', 'भी', 'नहीं'\n",
    "])\n",
    "\n",
    "# Minimal Marathi Stopwords\n",
    "marathi_stopwords = set([\n",
    "    'आहे', 'च्या', 'मध्ये', 'वर', 'आणि', 'तो', 'ती', 'हे', 'की', 'होते',\n",
    "    'नाही', 'तुमचे', 'आपण', 'माझे', 'तसेच'\n",
    "])\n"
   ]
  },
  {
   "cell_type": "code",
   "execution_count": null,
   "id": "1dd98688-1434-41c4-865f-13bdb4c429d2",
   "metadata": {},
   "outputs": [],
   "source": []
  },
  {
   "cell_type": "code",
   "execution_count": 13,
   "id": "0708025b-a270-44ae-8ed9-39b87b00a0eb",
   "metadata": {},
   "outputs": [],
   "source": [
    "import re\n",
    "\n",
    "\n",
    "def clean_text_mixed_with_stopwords(text):\n",
    "    text = text.lower()\n",
    "    text = re.sub(r'[^a-zA-Z\\u0900-\\u097F\\s]', '', text)  # Keep English + Devanagari\n",
    "    text = re.sub(r'\\d+', '', text)\n",
    "    words = text.split()\n",
    "    filtered = [\n",
    "        word for word in words\n",
    "        if word not in hindi_stopwords and word not in marathi_stopwords\n",
    "    ]\n",
    "    return \" \".join(filtered)\n"
   ]
  },
  {
   "cell_type": "code",
   "execution_count": null,
   "id": "4208dc9a-49aa-4fb1-b798-1b331d59c1e8",
   "metadata": {},
   "outputs": [],
   "source": []
  },
  {
   "cell_type": "code",
   "execution_count": 14,
   "id": "62e002ac-c5e6-4f5f-bca2-e620566ded51",
   "metadata": {},
   "outputs": [
    {
     "data": {
      "text/html": [
       "<div>\n",
       "<style scoped>\n",
       "    .dataframe tbody tr th:only-of-type {\n",
       "        vertical-align: middle;\n",
       "    }\n",
       "\n",
       "    .dataframe tbody tr th {\n",
       "        vertical-align: top;\n",
       "    }\n",
       "\n",
       "    .dataframe thead th {\n",
       "        text-align: right;\n",
       "    }\n",
       "</style>\n",
       "<table border=\"1\" class=\"dataframe\">\n",
       "  <thead>\n",
       "    <tr style=\"text-align: right;\">\n",
       "      <th></th>\n",
       "      <th>message</th>\n",
       "      <th>clean_message</th>\n",
       "    </tr>\n",
       "  </thead>\n",
       "  <tbody>\n",
       "    <tr>\n",
       "      <th>1905</th>\n",
       "      <td>तुमचा PAN क्राइममध्ये वापरला गेला आहे. Cyber C...</td>\n",
       "      <td>तुमचा pan क्राइममध्ये वापरला गेला cyber cell व...</td>\n",
       "    </tr>\n",
       "    <tr>\n",
       "      <th>2015</th>\n",
       "      <td>zomato order confirmed reach mins</td>\n",
       "      <td>zomato order confirmed reach mins</td>\n",
       "    </tr>\n",
       "    <tr>\n",
       "      <th>211</th>\n",
       "      <td>calling income tax department refund share acc...</td>\n",
       "      <td>calling income tax department refund share acc...</td>\n",
       "    </tr>\n",
       "    <tr>\n",
       "      <th>1352</th>\n",
       "      <td>आपका Flipkart ऑर्डर भेज दिया गया है। ट्रैकिंग ...</td>\n",
       "      <td>आपका flipkart ऑर्डर भेज दिया गया है। ट्रैकिंग ...</td>\n",
       "    </tr>\n",
       "    <tr>\n",
       "      <th>1955</th>\n",
       "      <td>डिजिटल कोर्टने अटकेचं आदेश दिलं आहे. ₹20000 दि...</td>\n",
       "      <td>डिजिटल कोर्टने अटकेचं आदेश दिलं दिलं तर तुरुंग</td>\n",
       "    </tr>\n",
       "  </tbody>\n",
       "</table>\n",
       "</div>"
      ],
      "text/plain": [
       "                                                message  \\\n",
       "1905  तुमचा PAN क्राइममध्ये वापरला गेला आहे. Cyber C...   \n",
       "2015                  zomato order confirmed reach mins   \n",
       "211   calling income tax department refund share acc...   \n",
       "1352  आपका Flipkart ऑर्डर भेज दिया गया है। ट्रैकिंग ...   \n",
       "1955  डिजिटल कोर्टने अटकेचं आदेश दिलं आहे. ₹20000 दि...   \n",
       "\n",
       "                                          clean_message  \n",
       "1905  तुमचा pan क्राइममध्ये वापरला गेला cyber cell व...  \n",
       "2015                  zomato order confirmed reach mins  \n",
       "211   calling income tax department refund share acc...  \n",
       "1352  आपका flipkart ऑर्डर भेज दिया गया है। ट्रैकिंग ...  \n",
       "1955     डिजिटल कोर्टने अटकेचं आदेश दिलं दिलं तर तुरुंग  "
      ]
     },
     "execution_count": 14,
     "metadata": {},
     "output_type": "execute_result"
    }
   ],
   "source": [
    "full_df['clean_message'] = full_df['message'].apply(clean_text_mixed_with_stopwords)\n",
    "full_df[['message', 'clean_message']].sample(5)\n"
   ]
  },
  {
   "cell_type": "code",
   "execution_count": null,
   "id": "5f8d4557-6d1b-43c9-aa00-98b9785205a0",
   "metadata": {},
   "outputs": [],
   "source": []
  },
  {
   "cell_type": "code",
   "execution_count": null,
   "id": "f76d696c-ba5e-48b5-ae07-b3d2edd44ca1",
   "metadata": {},
   "outputs": [],
   "source": []
  },
  {
   "cell_type": "markdown",
   "id": "a3f38c5a-70ae-4679-941b-7ad0f0d8ad46",
   "metadata": {},
   "source": [
    "### Step : TF-IDF Vectorization (Multilingual Cleaned Text)\n"
   ]
  },
  {
   "cell_type": "code",
   "execution_count": null,
   "id": "ccade95c-01fb-4071-a9e5-e8b619915d46",
   "metadata": {},
   "outputs": [],
   "source": []
  },
  {
   "cell_type": "markdown",
   "id": "067a6874-62eb-4643-b9fb-667107d16606",
   "metadata": {},
   "source": [
    "##### We’ll convert cleaned Hindi/Marathi + English text into numeric features using TfidfVectorizer.\n"
   ]
  },
  {
   "cell_type": "code",
   "execution_count": 15,
   "id": "c2e91ceb-294c-48aa-b360-d6eecf1a5d43",
   "metadata": {},
   "outputs": [],
   "source": [
    "from sklearn.feature_extraction.text import TfidfVectorizer\n",
    "\n",
    "# Vectorize the cleaned messages\n",
    "tfidf = TfidfVectorizer()\n",
    "X = tfidf.fit_transform(full_df['clean_message'])\n",
    "\n",
    "# Labels\n",
    "y = full_df['label']\n"
   ]
  },
  {
   "cell_type": "code",
   "execution_count": null,
   "id": "78706ea7-8b30-4c3b-89de-e8b0fac1c4d4",
   "metadata": {},
   "outputs": [],
   "source": []
  },
  {
   "cell_type": "markdown",
   "id": "c53f9d20-15ce-48f7-864e-8be21dce9c1a",
   "metadata": {},
   "source": [
    "### Step : Train-Test Split + Model Training"
   ]
  },
  {
   "cell_type": "code",
   "execution_count": null,
   "id": "0f85390b-0f40-4337-930e-23099e65e517",
   "metadata": {},
   "outputs": [],
   "source": []
  },
  {
   "cell_type": "code",
   "execution_count": 16,
   "id": "b62a77be-3b5c-41e2-90be-82eb396d6f7c",
   "metadata": {},
   "outputs": [
    {
     "name": "stdout",
     "output_type": "stream",
     "text": [
      "Accuracy: 0.9953271028037384\n",
      "\n",
      "Classification Report:\n",
      "               precision    recall  f1-score   support\n",
      "\n",
      "           0       1.00      0.99      1.00       203\n",
      "           1       0.99      1.00      1.00       225\n",
      "\n",
      "    accuracy                           1.00       428\n",
      "   macro avg       1.00      1.00      1.00       428\n",
      "weighted avg       1.00      1.00      1.00       428\n",
      "\n"
     ]
    }
   ],
   "source": [
    "from sklearn.linear_model import LogisticRegression\n",
    "from sklearn.model_selection import train_test_split\n",
    "from sklearn.metrics import accuracy_score, classification_report\n",
    "\n",
    "# Split the data\n",
    "X_train, X_test, y_train, y_test = train_test_split(X, y, test_size=0.2, random_state=42)\n",
    "\n",
    "# Train the model\n",
    "model = LogisticRegression()\n",
    "model.fit(X_train, y_train)\n",
    "\n",
    "# Predict and evaluate\n",
    "y_pred = model.predict(X_test)\n",
    "\n",
    "print(\"Accuracy:\", accuracy_score(y_test, y_pred))\n",
    "print(\"\\nClassification Report:\\n\", classification_report(y_test, y_pred))\n"
   ]
  },
  {
   "cell_type": "code",
   "execution_count": null,
   "id": "184f18e3-97a4-4fde-87a9-c9e7c2fc82b3",
   "metadata": {},
   "outputs": [],
   "source": []
  },
  {
   "cell_type": "markdown",
   "id": "01ddbc08-d5ff-4397-8525-cf8ecd71867d",
   "metadata": {},
   "source": [
    "####### What This Means\n",
    "model:\n",
    "\n",
    "Can handle Hindi, Marathi, Hinglish, and English\n",
    "\n",
    "Learns from real scam keywords (like \"अरेस्ट\", \"call\", \"जमा\", \"bank\")\n",
    "\n",
    "Performs extremely well even with mixed scripts and stopwords"
   ]
  },
  {
   "cell_type": "code",
   "execution_count": null,
   "id": "368689ab-77c9-4037-a87e-1474b9075743",
   "metadata": {},
   "outputs": [],
   "source": []
  },
  {
   "cell_type": "markdown",
   "id": "cc6fe4ac-119d-40cf-b722-1622f1ae977c",
   "metadata": {},
   "source": [
    "### Real Message Testing"
   ]
  },
  {
   "cell_type": "raw",
   "id": "d577c0f7-9099-49ff-8864-9e31e8ca1943",
   "metadata": {},
   "source": [
    "def predict_message(text):\n",
    "    cleaned = clean_text_mixed_with_stopwords(text)\n",
    "    vec = tfidf.transform([cleaned])\n",
    "    prediction = model.predict(vec)[0]\n",
    "    return \"🚨 Scam\" if prediction == 1 else \"✅ Legit\"\n",
    "\n",
    "# Try it:\n",
    "print(predict_message(\"आपके नाम से पुलिस में FIR दर्ज हुई है, तुरंत कॉल करें 9876543210\"))\n",
    "print(predict_message(\"आपका मोबाईल रिचार्ज ₹199 सफलतापूर्वक हुआ है।\"))\n"
   ]
  },
  {
   "cell_type": "raw",
   "id": "2a1dc3fb-13fc-42ce-9287-b57f0ae184ce",
   "metadata": {},
   "source": [
    "print(predict_message(\"आपका बिल भुगतान सफल हुआ है। धन्यवाद।\"))  # Should be ✅ Legit\n",
    "print(predict_message(\"आपका मोबाइल रिचार्ज सफल रहा है।\"))  # Should be ✅ Legit\n"
   ]
  },
  {
   "cell_type": "raw",
   "id": "9862da32-433b-4a43-b8ae-c1630fdb8eaa",
   "metadata": {},
   "source": [
    "# Get top features\n",
    "feature_names = tfidf.get_feature_names_out()\n",
    "coefs = model.coef_[0]\n",
    "top_indices = coefs.argsort()\n",
    "\n",
    "# Top scam-indicating words\n",
    "top_scam_words = [feature_names[i] for i in top_indices[-20:]]\n",
    "\n",
    "# Top legit-indicating words\n",
    "top_legit_words = [feature_names[i] for i in top_indices[:20]]\n",
    "\n",
    "print(\"🚨 Top Scam Words:\", top_scam_words)\n",
    "print(\"✅ Top Legit Words:\", top_legit_words)\n"
   ]
  },
  {
   "cell_type": "code",
   "execution_count": null,
   "id": "329f478b-157a-4382-947a-8533f3cab66c",
   "metadata": {},
   "outputs": [],
   "source": []
  },
  {
   "cell_type": "markdown",
   "id": "c1c8b76b-09bd-402e-856d-990c3fd156bb",
   "metadata": {},
   "source": [
    "### Step : Save the Model and Vectorizer"
   ]
  },
  {
   "cell_type": "code",
   "execution_count": null,
   "id": "bd2e10bb-92f4-4e71-a615-2cf1a89a1eae",
   "metadata": {},
   "outputs": [],
   "source": []
  },
  {
   "cell_type": "code",
   "execution_count": 17,
   "id": "4533a7a9-bf71-4d45-9ace-9312485f5e2a",
   "metadata": {},
   "outputs": [
    {
     "name": "stdout",
     "output_type": "stream",
     "text": [
      "✅ Model and vectorizer saved successfully.\n"
     ]
    }
   ],
   "source": [
    "import joblib\n",
    "\n",
    "# Save model\n",
    "joblib.dump(model, \"fraud_model_lr.pkl\")\n",
    "\n",
    "# Save vectorizer\n",
    "joblib.dump(tfidf, \"tfidf_vectorizer.pkl\")\n",
    "\n",
    "print(\"✅ Model and vectorizer saved successfully.\")\n"
   ]
  },
  {
   "cell_type": "code",
   "execution_count": null,
   "id": "70ed817d-b5c8-444d-87e3-4407cf1a0d81",
   "metadata": {},
   "outputs": [],
   "source": []
  },
  {
   "cell_type": "markdown",
   "id": "4c7c4a66-ce55-4633-9c26-d281d84e5c8f",
   "metadata": {},
   "source": [
    "####  Load and Predict from Saved Model"
   ]
  },
  {
   "cell_type": "code",
   "execution_count": null,
   "id": "24f24b26-9298-4b27-a0a5-26f6eed394ce",
   "metadata": {},
   "outputs": [],
   "source": []
  },
  {
   "cell_type": "raw",
   "id": "6a328ad4-6440-4aa2-8c6c-315af94a1432",
   "metadata": {},
   "source": [
    "# Load model and vectorizer\n",
    "loaded_model = joblib.load(\"fraud_model_lr.pkl\")\n",
    "loaded_vectorizer = joblib.load(\"tfidf_vectorizer.pkl\")\n",
    "\n",
    "# Predict on new message\n",
    "test_message = [\"आपका मोबाइल रिचार्ज सफल रहा है।\"]\n",
    "test_cleaned = [clean_text_mixed_with_stopwords(msg) for msg in test_message]\n",
    "test_vector = loaded_vectorizer.transform(test_cleaned)\n",
    "\n",
    "prediction = loaded_model.predict(test_vector)[0]\n",
    "print(\"🚨 Scam\" if prediction == 1 else \"✅ Legit\")\n"
   ]
  },
  {
   "cell_type": "code",
   "execution_count": null,
   "id": "7954bc40-3bc3-41ce-993a-9f97475bbe7a",
   "metadata": {},
   "outputs": [],
   "source": []
  },
  {
   "cell_type": "code",
   "execution_count": null,
   "id": "4c0d277d-0db0-4521-899b-1a9e79e6cf47",
   "metadata": {},
   "outputs": [],
   "source": []
  },
  {
   "cell_type": "code",
   "execution_count": null,
   "id": "91ada811-17f1-4717-a608-f2f44e949dcd",
   "metadata": {},
   "outputs": [],
   "source": []
  },
  {
   "cell_type": "code",
   "execution_count": null,
   "id": "9d064930-cc7c-43e1-b53f-d8e47a3ced1a",
   "metadata": {},
   "outputs": [],
   "source": []
  },
  {
   "cell_type": "code",
   "execution_count": null,
   "id": "93519c01-11aa-43ec-b11c-ba9830759fc6",
   "metadata": {},
   "outputs": [],
   "source": []
  },
  {
   "cell_type": "code",
   "execution_count": null,
   "id": "0bc64fff-95cc-4bad-bb6f-d6f33be42f44",
   "metadata": {},
   "outputs": [],
   "source": []
  },
  {
   "cell_type": "code",
   "execution_count": null,
   "id": "ce4fe33c-86bc-4612-81a8-841d697e7dfc",
   "metadata": {},
   "outputs": [],
   "source": []
  },
  {
   "cell_type": "code",
   "execution_count": null,
   "id": "92457f2f-511d-4259-931b-d0740e4ea007",
   "metadata": {},
   "outputs": [],
   "source": []
  },
  {
   "cell_type": "code",
   "execution_count": null,
   "id": "21597a3d-cc73-4b16-ae26-8ae2903b95d2",
   "metadata": {},
   "outputs": [],
   "source": []
  },
  {
   "cell_type": "code",
   "execution_count": null,
   "id": "4231198a-8e17-4d8d-a93f-0660008d90a8",
   "metadata": {},
   "outputs": [],
   "source": []
  },
  {
   "cell_type": "code",
   "execution_count": null,
   "id": "0b1c9638-5b68-449f-9d6f-9e03806d0ba0",
   "metadata": {},
   "outputs": [],
   "source": []
  },
  {
   "cell_type": "code",
   "execution_count": null,
   "id": "868b5309-fa31-4658-a448-cbe29991cd44",
   "metadata": {},
   "outputs": [],
   "source": []
  },
  {
   "cell_type": "code",
   "execution_count": null,
   "id": "7cc1956d-7d54-4e27-9c50-da0d89bc2dd6",
   "metadata": {},
   "outputs": [],
   "source": []
  },
  {
   "cell_type": "code",
   "execution_count": null,
   "id": "f68aa210-15f3-429e-9b09-56b0ed2a8e2b",
   "metadata": {},
   "outputs": [],
   "source": []
  },
  {
   "cell_type": "code",
   "execution_count": null,
   "id": "b294c904-bdf0-4561-95fc-a94ee30ac492",
   "metadata": {},
   "outputs": [],
   "source": []
  },
  {
   "cell_type": "code",
   "execution_count": null,
   "id": "96209388-3787-48f0-953e-5f0001a79de5",
   "metadata": {},
   "outputs": [],
   "source": []
  },
  {
   "cell_type": "code",
   "execution_count": null,
   "id": "4bb00b56-08a9-4542-9000-01bf4b11afda",
   "metadata": {},
   "outputs": [],
   "source": []
  },
  {
   "cell_type": "code",
   "execution_count": null,
   "id": "a3d22264-4ae5-4cf6-9077-e4c32063f92e",
   "metadata": {},
   "outputs": [],
   "source": []
  },
  {
   "cell_type": "code",
   "execution_count": null,
   "id": "c67f608b-53dd-445b-8323-0eeec4de706c",
   "metadata": {},
   "outputs": [],
   "source": []
  },
  {
   "cell_type": "code",
   "execution_count": null,
   "id": "be71ed5d-1ad8-4337-b545-3fe3231c4a5e",
   "metadata": {},
   "outputs": [],
   "source": []
  },
  {
   "cell_type": "code",
   "execution_count": null,
   "id": "64c57b40-fbe5-445b-b164-f2e2e334fe61",
   "metadata": {},
   "outputs": [],
   "source": []
  },
  {
   "cell_type": "code",
   "execution_count": null,
   "id": "c7fa3e32-c5a1-4fe3-9721-5af7504c538a",
   "metadata": {},
   "outputs": [],
   "source": []
  },
  {
   "cell_type": "code",
   "execution_count": null,
   "id": "d60da5c2-2475-48a1-88d6-ad49905bb3ad",
   "metadata": {},
   "outputs": [],
   "source": []
  },
  {
   "cell_type": "code",
   "execution_count": null,
   "id": "751d7d90-fd0b-4cab-afef-47f92e0487d1",
   "metadata": {},
   "outputs": [],
   "source": []
  },
  {
   "cell_type": "code",
   "execution_count": null,
   "id": "a42de194-9f49-4600-a4ec-c841e0c93294",
   "metadata": {},
   "outputs": [],
   "source": []
  },
  {
   "cell_type": "code",
   "execution_count": null,
   "id": "c9a67760-485d-414a-83fa-e1005d009976",
   "metadata": {},
   "outputs": [],
   "source": []
  },
  {
   "cell_type": "code",
   "execution_count": null,
   "id": "25e972ab-c535-4a58-aae6-ec787baedc73",
   "metadata": {},
   "outputs": [],
   "source": []
  },
  {
   "cell_type": "code",
   "execution_count": null,
   "id": "1406b161-56dc-473d-beaf-b331b414b2c0",
   "metadata": {},
   "outputs": [],
   "source": []
  },
  {
   "cell_type": "code",
   "execution_count": null,
   "id": "2a136f7c-03ea-4453-8eec-52fc806f5665",
   "metadata": {},
   "outputs": [],
   "source": []
  },
  {
   "cell_type": "code",
   "execution_count": null,
   "id": "c06280c6-11f1-4bc3-a6a3-75e5cc9dbd79",
   "metadata": {},
   "outputs": [],
   "source": []
  },
  {
   "cell_type": "code",
   "execution_count": null,
   "id": "12177b08-8912-41aa-b5f8-2024ca6ae652",
   "metadata": {},
   "outputs": [],
   "source": []
  }
 ],
 "metadata": {
  "kernelspec": {
   "display_name": "Python 3 (ipykernel)",
   "language": "python",
   "name": "python3"
  },
  "language_info": {
   "codemirror_mode": {
    "name": "ipython",
    "version": 3
   },
   "file_extension": ".py",
   "mimetype": "text/x-python",
   "name": "python",
   "nbconvert_exporter": "python",
   "pygments_lexer": "ipython3",
   "version": "3.9.23"
  }
 },
 "nbformat": 4,
 "nbformat_minor": 5
}
